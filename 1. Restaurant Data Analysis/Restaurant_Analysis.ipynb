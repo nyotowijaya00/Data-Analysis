{
 "cells": [
  {
   "cell_type": "markdown",
   "metadata": {
    "id": "cWDijqRGKn8I"
   },
   "source": [
    "# CAPSTONE PROJECT - Junior Data Analyst Program"
   ]
  },
  {
   "cell_type": "markdown",
   "metadata": {
    "id": "M6YWX-NtKn8K"
   },
   "source": [
    "## Import Packages"
   ]
  },
  {
   "cell_type": "code",
   "execution_count": 358,
   "metadata": {
    "colab": {
     "base_uri": "https://localhost:8080/"
    },
    "id": "MHUsnon5l5yo",
    "outputId": "9108725f-b0b7-4230-9320-03390f8845d0"
   },
   "outputs": [],
   "source": [
    "import sqlite3\n",
    "import pandas as pd\n",
    "import matplotlib.pyplot as plt\n",
    "import seaborn as sns\n",
    "import warnings\n",
    "warnings.filterwarnings('ignore')\n",
    "\n",
    "from sklearn.preprocessing import LabelEncoder"
   ]
  },
  {
   "cell_type": "markdown",
   "metadata": {
    "id": "TmfuYV3clcWk"
   },
   "source": [
    "## Connect SQLite to Python"
   ]
  },
  {
   "cell_type": "code",
   "execution_count": 359,
   "metadata": {
    "colab": {
     "base_uri": "https://localhost:8080/"
    },
    "id": "v31KzqKnling",
    "outputId": "f643124d-5777-497f-8831-98b6359c3ed0"
   },
   "outputs": [
    {
     "name": "stdout",
     "output_type": "stream",
     "text": [
      "[('Orders',), ('Customers',), ('Vendors',), ('Locations',)]\n"
     ]
    }
   ],
   "source": [
    "db = sqlite3.connect('Restaurant_Dataset.db')\n",
    "restaurant_db = db.cursor()\n",
    "\n",
    "restaurant_db.execute(\"SELECT name FROM sqlite_master WHERE type='table'\")\n",
    "print(restaurant_db.fetchall())"
   ]
  },
  {
   "cell_type": "markdown",
   "metadata": {
    "id": "031LDaaFlk2t"
   },
   "source": [
    "## Data Preparation Using SQL"
   ]
  },
  {
   "cell_type": "code",
   "execution_count": 360,
   "metadata": {
    "id": "Oa3LWYKowvBq"
   },
   "outputs": [],
   "source": [
    "orders = pd.read_sql_query('''\n",
    "select *\n",
    "from orders\n",
    "''', db)\n",
    "\n",
    "customers = pd.read_sql_query('''\n",
    "select *\n",
    "from customers\n",
    "''', db)\n",
    "\n",
    "vendors = pd.read_sql_query('''\n",
    "select *\n",
    "from vendors\n",
    "''', db)\n",
    "\n",
    "locations = pd.read_sql_query('''\n",
    "select *\n",
    "from locations\n",
    "''', db)"
   ]
  },
  {
   "cell_type": "code",
   "execution_count": 361,
   "metadata": {
    "colab": {
     "base_uri": "https://localhost:8080/"
    },
    "id": "wrrNvyrvyfFu",
    "outputId": "45574599-27e2-42f3-a2af-38a15e4b4f7f"
   },
   "outputs": [
    {
     "name": "stdout",
     "output_type": "stream",
     "text": [
      "(9768, 12)\n",
      "(9768, 7)\n",
      "(100, 20)\n",
      "(16720, 4)\n"
     ]
    }
   ],
   "source": [
    "print(orders.shape)\n",
    "print(customers.shape)\n",
    "print(vendors.shape)\n",
    "print(locations.shape)"
   ]
  },
  {
   "cell_type": "code",
   "execution_count": 362,
   "metadata": {
    "colab": {
     "base_uri": "https://localhost:8080/"
    },
    "id": "zsSZJ3fN8vM8",
    "outputId": "9081588a-e7c1-4ac4-8d6e-924bb136d7d2"
   },
   "outputs": [
    {
     "name": "stdout",
     "output_type": "stream",
     "text": [
      "Order: \n",
      " ['order_id', 'customer_id', 'item_count', 'grand_total', 'payment_mode', 'is_favorite', 'is_rated', 'driver_rating', 'deliverydistance', 'vendor_id', 'created_at', 'LOCATION_NUMBER'] \n",
      "\n",
      "Customer: \n",
      " ['customer_id', 'gender', 'dob', 'status', 'verified', 'created_at', 'updated_at'] \n",
      "\n",
      "Vendor: \n",
      " ['vendor_id', 'authentication_id', 'latitude', 'longitude', 'vendor_category_en', 'delivery_charge', 'serving_distance', 'is_open', 'OpeningTime', 'prepration_time', 'discount_percentage', 'status', 'verified', 'rank', 'vendor_rating', 'vendor_tag', 'vendor_tag_name', 'created_at', 'updated_at', 'device_type'] \n",
      "\n",
      "Locations: \n",
      " ['customer_id', 'location_number', 'latitude', 'longitude'] \n",
      "\n"
     ]
    }
   ],
   "source": [
    "print('Order: \\n', list(orders.columns), '\\n')\n",
    "print('Customer: \\n', list(customers.columns), '\\n')\n",
    "print('Vendor: \\n', list(vendors.columns), '\\n')\n",
    "print('Locations: \\n', list(locations.columns), '\\n')"
   ]
  },
  {
   "cell_type": "code",
   "execution_count": 363,
   "metadata": {
    "colab": {
     "base_uri": "https://localhost:8080/"
    },
    "id": "Pyy-BfQKD2lO",
    "outputId": "899f83a1-073d-4ab3-a049-291b395ac5db"
   },
   "outputs": [
    {
     "name": "stdout",
     "output_type": "stream",
     "text": [
      "Jumlah Data Missing\n",
      "\n",
      "order_id              4\n",
      "customer_id           0\n",
      "item_count          507\n",
      "grand_total           0\n",
      "payment_mode          0\n",
      "is_favorite         100\n",
      "is_rated              0\n",
      "driver_rating         0\n",
      "deliverydistance      0\n",
      "vendor_id             0\n",
      "created_at            0\n",
      "LOCATION_NUMBER       0\n",
      "dtype: int64\n",
      "\n",
      "customer_id    0\n",
      "gender         0\n",
      "dob            0\n",
      "status         0\n",
      "verified       0\n",
      "created_at     0\n",
      "updated_at     0\n",
      "dtype: int64\n",
      "\n",
      "vendor_id              0\n",
      "authentication_id      0\n",
      "latitude               0\n",
      "longitude              0\n",
      "vendor_category_en     0\n",
      "delivery_charge        0\n",
      "serving_distance       0\n",
      "is_open                0\n",
      "OpeningTime            9\n",
      "prepration_time        0\n",
      "discount_percentage    0\n",
      "status                 0\n",
      "verified               0\n",
      "rank                   0\n",
      "vendor_rating          0\n",
      "vendor_tag             3\n",
      "vendor_tag_name        3\n",
      "created_at             0\n",
      "updated_at             0\n",
      "device_type            0\n",
      "dtype: int64\n",
      "\n",
      "customer_id        0\n",
      "location_number    0\n",
      "latitude           3\n",
      "longitude          3\n",
      "dtype: int64\n"
     ]
    }
   ],
   "source": [
    "order_missing = pd.isnull(orders).sum()\n",
    "customer_missing = pd.isnull(customers).sum()\n",
    "vendor_missing = pd.isnull(vendors).sum()\n",
    "location_missing = pd.isnull(locations).sum()\n",
    "\n",
    "print(\"Jumlah Data Missing\")\n",
    "print()\n",
    "print(order_missing)\n",
    "print()\n",
    "print(customer_missing)\n",
    "print()\n",
    "print(vendor_missing)\n",
    "print()\n",
    "print(location_missing)"
   ]
  },
  {
   "cell_type": "markdown",
   "metadata": {
    "id": "15veacQib8Gd"
   },
   "source": [
    "We assume every transactions without `order_id` are fraud, and `item_count` will be filled with median. We also change `is_favourite` into binary."
   ]
  },
  {
   "cell_type": "code",
   "execution_count": 364,
   "metadata": {
    "colab": {
     "base_uri": "https://localhost:8080/"
    },
    "id": "GBkZ2aGHbrjY",
    "outputId": "e06742c8-3e8a-41bb-9ae2-a840ff26c0da"
   },
   "outputs": [
    {
     "data": {
      "text/plain": [
       "count    9261.000000\n",
       "mean        2.379009\n",
       "std         1.597841\n",
       "min         1.000000\n",
       "25%         1.000000\n",
       "50%         2.000000\n",
       "75%         3.000000\n",
       "max        20.000000\n",
       "Name: item_count, dtype: float64"
      ]
     },
     "execution_count": 364,
     "metadata": {},
     "output_type": "execute_result"
    }
   ],
   "source": [
    "orders['item_count'].describe()"
   ]
  },
  {
   "cell_type": "code",
   "execution_count": 365,
   "metadata": {
    "id": "EpC7kEMYe9OX"
   },
   "outputs": [],
   "source": [
    "orders['item_count'].fillna(int(orders['item_count'].median()), inplace=True)"
   ]
  },
  {
   "cell_type": "code",
   "execution_count": 366,
   "metadata": {
    "colab": {
     "base_uri": "https://localhost:8080/"
    },
    "id": "YDV8iq9xfDTm",
    "outputId": "a3c21b6e-84c4-411a-f2a5-d891a43c4c94"
   },
   "outputs": [
    {
     "data": {
      "text/plain": [
       "order_id              4\n",
       "customer_id           0\n",
       "item_count            0\n",
       "grand_total           0\n",
       "payment_mode          0\n",
       "is_favorite         100\n",
       "is_rated              0\n",
       "driver_rating         0\n",
       "deliverydistance      0\n",
       "vendor_id             0\n",
       "created_at            0\n",
       "LOCATION_NUMBER       0\n",
       "dtype: int64"
      ]
     },
     "execution_count": 366,
     "metadata": {},
     "output_type": "execute_result"
    }
   ],
   "source": [
    "order_missing = pd.isnull(orders).sum()\n",
    "order_missing"
   ]
  },
  {
   "cell_type": "code",
   "execution_count": 367,
   "metadata": {
    "colab": {
     "base_uri": "https://localhost:8080/"
    },
    "id": "nNkTBEt5gu-R",
    "outputId": "2752717f-3f91-466e-871d-fad52d7e0048"
   },
   "outputs": [
    {
     "data": {
      "text/html": [
       "<div>\n",
       "<style scoped>\n",
       "    .dataframe tbody tr th:only-of-type {\n",
       "        vertical-align: middle;\n",
       "    }\n",
       "\n",
       "    .dataframe tbody tr th {\n",
       "        vertical-align: top;\n",
       "    }\n",
       "\n",
       "    .dataframe thead th {\n",
       "        text-align: right;\n",
       "    }\n",
       "</style>\n",
       "<table border=\"1\" class=\"dataframe\">\n",
       "  <thead>\n",
       "    <tr style=\"text-align: right;\">\n",
       "      <th></th>\n",
       "      <th>order_id</th>\n",
       "      <th>customer_id</th>\n",
       "      <th>item_count</th>\n",
       "      <th>grand_total</th>\n",
       "      <th>payment_mode</th>\n",
       "      <th>is_favorite</th>\n",
       "      <th>is_rated</th>\n",
       "      <th>driver_rating</th>\n",
       "      <th>deliverydistance</th>\n",
       "      <th>vendor_id</th>\n",
       "      <th>created_at</th>\n",
       "      <th>LOCATION_NUMBER</th>\n",
       "    </tr>\n",
       "  </thead>\n",
       "  <tbody>\n",
       "    <tr>\n",
       "      <th>0</th>\n",
       "      <td>163241.0</td>\n",
       "      <td>9ZTJB1L</td>\n",
       "      <td>2.0</td>\n",
       "      <td>14.4</td>\n",
       "      <td>1</td>\n",
       "      <td>1</td>\n",
       "      <td>No</td>\n",
       "      <td>0.0</td>\n",
       "      <td>0.0</td>\n",
       "      <td>83</td>\n",
       "      <td>2019-08-01 05:31:33</td>\n",
       "      <td>0</td>\n",
       "    </tr>\n",
       "    <tr>\n",
       "      <th>1</th>\n",
       "      <td>163246.0</td>\n",
       "      <td>6C7D1O2</td>\n",
       "      <td>3.0</td>\n",
       "      <td>18.2</td>\n",
       "      <td>2</td>\n",
       "      <td>1</td>\n",
       "      <td>No</td>\n",
       "      <td>0.0</td>\n",
       "      <td>0.0</td>\n",
       "      <td>83</td>\n",
       "      <td>2019-08-01 05:37:05</td>\n",
       "      <td>0</td>\n",
       "    </tr>\n",
       "    <tr>\n",
       "      <th>2</th>\n",
       "      <td>163265.0</td>\n",
       "      <td>VCBBSUB</td>\n",
       "      <td>1.0</td>\n",
       "      <td>4.6</td>\n",
       "      <td>1</td>\n",
       "      <td>1</td>\n",
       "      <td>No</td>\n",
       "      <td>0.0</td>\n",
       "      <td>0.0</td>\n",
       "      <td>78</td>\n",
       "      <td>2019-08-01 06:03:59</td>\n",
       "      <td>0</td>\n",
       "    </tr>\n",
       "    <tr>\n",
       "      <th>3</th>\n",
       "      <td>163274.0</td>\n",
       "      <td>ZBNP36W</td>\n",
       "      <td>1.0</td>\n",
       "      <td>5.7</td>\n",
       "      <td>1</td>\n",
       "      <td>1</td>\n",
       "      <td>No</td>\n",
       "      <td>0.0</td>\n",
       "      <td>0.0</td>\n",
       "      <td>195</td>\n",
       "      <td>2019-08-01 06:34:38</td>\n",
       "      <td>0</td>\n",
       "    </tr>\n",
       "    <tr>\n",
       "      <th>4</th>\n",
       "      <td>163321.0</td>\n",
       "      <td>BJ1GYQY</td>\n",
       "      <td>2.0</td>\n",
       "      <td>15.8</td>\n",
       "      <td>1</td>\n",
       "      <td>1</td>\n",
       "      <td>No</td>\n",
       "      <td>0.0</td>\n",
       "      <td>0.0</td>\n",
       "      <td>75</td>\n",
       "      <td>2019-08-01 17:06:17</td>\n",
       "      <td>0</td>\n",
       "    </tr>\n",
       "  </tbody>\n",
       "</table>\n",
       "</div>"
      ],
      "text/plain": [
       "   order_id customer_id  item_count  grand_total  payment_mode  is_favorite  \\\n",
       "0  163241.0     9ZTJB1L         2.0         14.4             1            1   \n",
       "1  163246.0     6C7D1O2         3.0         18.2             2            1   \n",
       "2  163265.0     VCBBSUB         1.0          4.6             1            1   \n",
       "3  163274.0     ZBNP36W         1.0          5.7             1            1   \n",
       "4  163321.0     BJ1GYQY         2.0         15.8             1            1   \n",
       "\n",
       "  is_rated  driver_rating  deliverydistance  vendor_id           created_at  \\\n",
       "0       No            0.0               0.0         83  2019-08-01 05:31:33   \n",
       "1       No            0.0               0.0         83  2019-08-01 05:37:05   \n",
       "2       No            0.0               0.0         78  2019-08-01 06:03:59   \n",
       "3       No            0.0               0.0        195  2019-08-01 06:34:38   \n",
       "4       No            0.0               0.0         75  2019-08-01 17:06:17   \n",
       "\n",
       "   LOCATION_NUMBER  \n",
       "0                0  \n",
       "1                0  \n",
       "2                0  \n",
       "3                0  \n",
       "4                0  "
      ]
     },
     "execution_count": 367,
     "metadata": {},
     "output_type": "execute_result"
    }
   ],
   "source": [
    "encode = LabelEncoder()\n",
    "orders['is_favorite'] = encode.fit_transform(orders['is_favorite'])\n",
    "orders.head()"
   ]
  },
  {
   "cell_type": "code",
   "execution_count": 368,
   "metadata": {
    "id": "qJKQCNDlhpPZ"
   },
   "outputs": [],
   "source": [
    "orders = orders.dropna(axis=0, how=\"any\")"
   ]
  },
  {
   "cell_type": "code",
   "execution_count": 369,
   "metadata": {
    "colab": {
     "base_uri": "https://localhost:8080/"
    },
    "id": "qKbf_j8chPWT",
    "outputId": "ef3970a6-4b0b-4322-ff72-9ef7fe0dc130"
   },
   "outputs": [
    {
     "data": {
      "text/plain": [
       "order_id            0\n",
       "customer_id         0\n",
       "item_count          0\n",
       "grand_total         0\n",
       "payment_mode        0\n",
       "is_favorite         0\n",
       "is_rated            0\n",
       "driver_rating       0\n",
       "deliverydistance    0\n",
       "vendor_id           0\n",
       "created_at          0\n",
       "LOCATION_NUMBER     0\n",
       "dtype: int64"
      ]
     },
     "execution_count": 369,
     "metadata": {},
     "output_type": "execute_result"
    }
   ],
   "source": [
    "order_missing = pd.isnull(orders).sum()\n",
    "order_missing"
   ]
  },
  {
   "cell_type": "code",
   "execution_count": 370,
   "metadata": {
    "colab": {
     "base_uri": "https://localhost:8080/"
    },
    "id": "DstAP8eEh1Uf",
    "outputId": "15e107ee-445c-41b0-bcfc-ff86c75e99a6"
   },
   "outputs": [
    {
     "name": "stdout",
     "output_type": "stream",
     "text": [
      "<class 'pandas.core.frame.DataFrame'>\n",
      "Int64Index: 9764 entries, 0 to 9767\n",
      "Data columns (total 12 columns):\n",
      " #   Column            Non-Null Count  Dtype  \n",
      "---  ------            --------------  -----  \n",
      " 0   order_id          9764 non-null   float64\n",
      " 1   customer_id       9764 non-null   object \n",
      " 2   item_count        9764 non-null   float64\n",
      " 3   grand_total       9764 non-null   float64\n",
      " 4   payment_mode      9764 non-null   int64  \n",
      " 5   is_favorite       9764 non-null   int32  \n",
      " 6   is_rated          9764 non-null   object \n",
      " 7   driver_rating     9764 non-null   float64\n",
      " 8   deliverydistance  9764 non-null   float64\n",
      " 9   vendor_id         9764 non-null   int64  \n",
      " 10  created_at        9764 non-null   object \n",
      " 11  LOCATION_NUMBER   9764 non-null   int64  \n",
      "dtypes: float64(5), int32(1), int64(3), object(3)\n",
      "memory usage: 953.5+ KB\n"
     ]
    }
   ],
   "source": [
    "orders.info()"
   ]
  },
  {
   "cell_type": "code",
   "execution_count": 371,
   "metadata": {
    "id": "ynupltL2h2aX"
   },
   "outputs": [],
   "source": [
    "locations = locations.dropna(axis=0, how=\"any\")"
   ]
  },
  {
   "cell_type": "code",
   "execution_count": 372,
   "metadata": {
    "colab": {
     "base_uri": "https://localhost:8080/"
    },
    "id": "WKTYjJU8h9jp",
    "outputId": "6b7459a7-3f90-425c-a938-8ca2917fd29e"
   },
   "outputs": [
    {
     "name": "stdout",
     "output_type": "stream",
     "text": [
      "<class 'pandas.core.frame.DataFrame'>\n",
      "Int64Index: 16717 entries, 0 to 16719\n",
      "Data columns (total 4 columns):\n",
      " #   Column           Non-Null Count  Dtype  \n",
      "---  ------           --------------  -----  \n",
      " 0   customer_id      16717 non-null  object \n",
      " 1   location_number  16717 non-null  int64  \n",
      " 2   latitude         16717 non-null  float64\n",
      " 3   longitude        16717 non-null  float64\n",
      "dtypes: float64(2), int64(1), object(1)\n",
      "memory usage: 653.0+ KB\n"
     ]
    }
   ],
   "source": [
    "locations.info()"
   ]
  },
  {
   "cell_type": "markdown",
   "metadata": {
    "id": "KR4nTXSviCbu"
   },
   "source": [
    "Moving to this step, our data has been cleaned"
   ]
  },
  {
   "cell_type": "code",
   "execution_count": 373,
   "metadata": {
    "id": "62RTfPsyaLoK"
   },
   "outputs": [],
   "source": [
    "#tabel 1\n",
    "table_1 = pd.read_sql_query(\n",
    "    '''\n",
    "    SELECT  customers.customer_id,\n",
    "            customers.gender,\n",
    "            customers.dob, \n",
    "            locations.location_number,\n",
    "            orders.created_at, \n",
    "            orders.item_count, \n",
    "            orders.grand_total, \n",
    "            vendors.vendor_id,\n",
    "            vendors.vendor_category_en,\n",
    "            vendors.discount_percentage,\n",
    "            strftime('%Y', orders.created_at) as year,\n",
    "            strftime('%m', orders.created_at) as month,\n",
    "            strftime('%w', orders.created_at) as day_name,\n",
    "            strftime('%Y-%m', orders.created_at) as date\n",
    "    FROM orders\n",
    "    LEFT JOIN customers ON orders.customer_id = customers.customer_id\n",
    "    INNER JOIN vendors ON vendors.vendor_id = orders.vendor_id\n",
    "    INNER JOIN locations ON locations.customer_id = orders.customer_id\n",
    "    ''',db)"
   ]
  },
  {
   "cell_type": "code",
   "execution_count": 374,
   "metadata": {
    "id": "ZL0Yo0eovUIV"
   },
   "outputs": [],
   "source": [
    "table_1 = table_1.sort_values(by = ['date'])\n",
    "table_1['age'] = abs(table_1['dob'] - 2022)"
   ]
  },
  {
   "cell_type": "code",
   "execution_count": 375,
   "metadata": {
    "colab": {
     "base_uri": "https://localhost:8080/"
    },
    "id": "9VVmBGCgaK0H",
    "outputId": "63def6bb-6d04-451c-979f-17de2e7a7bbf"
   },
   "outputs": [
    {
     "data": {
      "text/html": [
       "<div>\n",
       "<style scoped>\n",
       "    .dataframe tbody tr th:only-of-type {\n",
       "        vertical-align: middle;\n",
       "    }\n",
       "\n",
       "    .dataframe tbody tr th {\n",
       "        vertical-align: top;\n",
       "    }\n",
       "\n",
       "    .dataframe thead th {\n",
       "        text-align: right;\n",
       "    }\n",
       "</style>\n",
       "<table border=\"1\" class=\"dataframe\">\n",
       "  <thead>\n",
       "    <tr style=\"text-align: right;\">\n",
       "      <th></th>\n",
       "      <th>customer_id</th>\n",
       "      <th>gender</th>\n",
       "      <th>dob</th>\n",
       "      <th>location_number</th>\n",
       "      <th>created_at</th>\n",
       "      <th>item_count</th>\n",
       "      <th>grand_total</th>\n",
       "      <th>vendor_id</th>\n",
       "      <th>vendor_category_en</th>\n",
       "      <th>discount_percentage</th>\n",
       "      <th>year</th>\n",
       "      <th>month</th>\n",
       "      <th>day_name</th>\n",
       "      <th>date</th>\n",
       "      <th>age</th>\n",
       "    </tr>\n",
       "  </thead>\n",
       "  <tbody>\n",
       "    <tr>\n",
       "      <th>4059</th>\n",
       "      <td>3WB9JM8</td>\n",
       "      <td>male</td>\n",
       "      <td>1997</td>\n",
       "      <td>3</td>\n",
       "      <td>2019-06-21 17:18:37</td>\n",
       "      <td>1.0</td>\n",
       "      <td>11.4</td>\n",
       "      <td>82</td>\n",
       "      <td>Restaurants</td>\n",
       "      <td>0.0</td>\n",
       "      <td>2019</td>\n",
       "      <td>06</td>\n",
       "      <td>5</td>\n",
       "      <td>2019-06</td>\n",
       "      <td>25</td>\n",
       "    </tr>\n",
       "    <tr>\n",
       "      <th>3701</th>\n",
       "      <td>RCCJYBM</td>\n",
       "      <td>male</td>\n",
       "      <td>1991</td>\n",
       "      <td>3</td>\n",
       "      <td>2019-06-12 23:05:28</td>\n",
       "      <td>4.0</td>\n",
       "      <td>19.3</td>\n",
       "      <td>193</td>\n",
       "      <td>Restaurants</td>\n",
       "      <td>0.0</td>\n",
       "      <td>2019</td>\n",
       "      <td>06</td>\n",
       "      <td>3</td>\n",
       "      <td>2019-06</td>\n",
       "      <td>31</td>\n",
       "    </tr>\n",
       "    <tr>\n",
       "      <th>3700</th>\n",
       "      <td>RCCJYBM</td>\n",
       "      <td>male</td>\n",
       "      <td>1991</td>\n",
       "      <td>0</td>\n",
       "      <td>2019-06-12 23:05:28</td>\n",
       "      <td>4.0</td>\n",
       "      <td>19.3</td>\n",
       "      <td>193</td>\n",
       "      <td>Restaurants</td>\n",
       "      <td>0.0</td>\n",
       "      <td>2019</td>\n",
       "      <td>06</td>\n",
       "      <td>3</td>\n",
       "      <td>2019-06</td>\n",
       "      <td>31</td>\n",
       "    </tr>\n",
       "    <tr>\n",
       "      <th>3699</th>\n",
       "      <td>RCCJYBM</td>\n",
       "      <td>male</td>\n",
       "      <td>1991</td>\n",
       "      <td>0</td>\n",
       "      <td>2019-06-12 23:05:28</td>\n",
       "      <td>4.0</td>\n",
       "      <td>19.3</td>\n",
       "      <td>193</td>\n",
       "      <td>Restaurants</td>\n",
       "      <td>0.0</td>\n",
       "      <td>2019</td>\n",
       "      <td>06</td>\n",
       "      <td>3</td>\n",
       "      <td>2019-06</td>\n",
       "      <td>31</td>\n",
       "    </tr>\n",
       "    <tr>\n",
       "      <th>3698</th>\n",
       "      <td>NJDUUUU</td>\n",
       "      <td>male</td>\n",
       "      <td>1991</td>\n",
       "      <td>1</td>\n",
       "      <td>2019-06-12 23:04:08</td>\n",
       "      <td>5.0</td>\n",
       "      <td>22.8</td>\n",
       "      <td>78</td>\n",
       "      <td>Restaurants</td>\n",
       "      <td>0.0</td>\n",
       "      <td>2019</td>\n",
       "      <td>06</td>\n",
       "      <td>3</td>\n",
       "      <td>2019-06</td>\n",
       "      <td>31</td>\n",
       "    </tr>\n",
       "  </tbody>\n",
       "</table>\n",
       "</div>"
      ],
      "text/plain": [
       "     customer_id gender   dob  location_number           created_at  \\\n",
       "4059     3WB9JM8   male  1997                3  2019-06-21 17:18:37   \n",
       "3701     RCCJYBM   male  1991                3  2019-06-12 23:05:28   \n",
       "3700     RCCJYBM   male  1991                0  2019-06-12 23:05:28   \n",
       "3699     RCCJYBM   male  1991                0  2019-06-12 23:05:28   \n",
       "3698     NJDUUUU   male  1991                1  2019-06-12 23:04:08   \n",
       "\n",
       "      item_count  grand_total  vendor_id vendor_category_en  \\\n",
       "4059         1.0         11.4         82        Restaurants   \n",
       "3701         4.0         19.3        193        Restaurants   \n",
       "3700         4.0         19.3        193        Restaurants   \n",
       "3699         4.0         19.3        193        Restaurants   \n",
       "3698         5.0         22.8         78        Restaurants   \n",
       "\n",
       "      discount_percentage  year month day_name     date  age  \n",
       "4059                  0.0  2019    06        5  2019-06   25  \n",
       "3701                  0.0  2019    06        3  2019-06   31  \n",
       "3700                  0.0  2019    06        3  2019-06   31  \n",
       "3699                  0.0  2019    06        3  2019-06   31  \n",
       "3698                  0.0  2019    06        3  2019-06   31  "
      ]
     },
     "execution_count": 375,
     "metadata": {},
     "output_type": "execute_result"
    }
   ],
   "source": [
    "table_1.head()"
   ]
  },
  {
   "cell_type": "code",
   "execution_count": 376,
   "metadata": {
    "colab": {
     "base_uri": "https://localhost:8080/"
    },
    "id": "U7AFW6YfaTpz",
    "outputId": "18e58d4f-9026-4325-f526-9261216cb6c1"
   },
   "outputs": [
    {
     "name": "stdout",
     "output_type": "stream",
     "text": [
      "<class 'pandas.core.frame.DataFrame'>\n",
      "Int64Index: 16925 entries, 4059 to 16924\n",
      "Data columns (total 15 columns):\n",
      " #   Column               Non-Null Count  Dtype  \n",
      "---  ------               --------------  -----  \n",
      " 0   customer_id          16925 non-null  object \n",
      " 1   gender               16925 non-null  object \n",
      " 2   dob                  16925 non-null  int64  \n",
      " 3   location_number      16925 non-null  int64  \n",
      " 4   created_at           16925 non-null  object \n",
      " 5   item_count           15975 non-null  float64\n",
      " 6   grand_total          16925 non-null  float64\n",
      " 7   vendor_id            16925 non-null  int64  \n",
      " 8   vendor_category_en   16925 non-null  object \n",
      " 9   discount_percentage  16925 non-null  float64\n",
      " 10  year                 16925 non-null  object \n",
      " 11  month                16925 non-null  object \n",
      " 12  day_name             16925 non-null  object \n",
      " 13  date                 16925 non-null  object \n",
      " 14  age                  16925 non-null  int64  \n",
      "dtypes: float64(3), int64(4), object(8)\n",
      "memory usage: 2.1+ MB\n"
     ]
    }
   ],
   "source": [
    "table_1.info()"
   ]
  },
  {
   "cell_type": "markdown",
   "metadata": {
    "id": "1DH2ISL0Kn8L"
   },
   "source": [
    "## Analysis Tasks\n",
    "1. Plotting data to gain insights.\n",
    "2. Giving best recommendation based on data."
   ]
  },
  {
   "cell_type": "markdown",
   "metadata": {
    "id": "QUlpaqeqMFn2"
   },
   "source": [
    "## Data Exploration"
   ]
  },
  {
   "cell_type": "code",
   "execution_count": 377,
   "metadata": {
    "colab": {
     "base_uri": "https://localhost:8080/"
    },
    "id": "GEZZv7eXRear",
    "outputId": "8a2f4d41-351d-4fd6-935c-a83cfd4a7161"
   },
   "outputs": [
    {
     "data": {
      "text/html": [
       "<div>\n",
       "<style scoped>\n",
       "    .dataframe tbody tr th:only-of-type {\n",
       "        vertical-align: middle;\n",
       "    }\n",
       "\n",
       "    .dataframe tbody tr th {\n",
       "        vertical-align: top;\n",
       "    }\n",
       "\n",
       "    .dataframe thead th {\n",
       "        text-align: right;\n",
       "    }\n",
       "</style>\n",
       "<table border=\"1\" class=\"dataframe\">\n",
       "  <thead>\n",
       "    <tr style=\"text-align: right;\">\n",
       "      <th></th>\n",
       "      <th>customer_id</th>\n",
       "      <th>gender</th>\n",
       "      <th>dob</th>\n",
       "      <th>location_number</th>\n",
       "      <th>created_at</th>\n",
       "      <th>item_count</th>\n",
       "      <th>grand_total</th>\n",
       "      <th>vendor_id</th>\n",
       "      <th>vendor_category_en</th>\n",
       "      <th>discount_percentage</th>\n",
       "      <th>year</th>\n",
       "      <th>month</th>\n",
       "      <th>day_name</th>\n",
       "      <th>date</th>\n",
       "      <th>age</th>\n",
       "    </tr>\n",
       "  </thead>\n",
       "  <tbody>\n",
       "    <tr>\n",
       "      <th>4059</th>\n",
       "      <td>3WB9JM8</td>\n",
       "      <td>male</td>\n",
       "      <td>1997</td>\n",
       "      <td>3</td>\n",
       "      <td>2019-06-21 17:18:37</td>\n",
       "      <td>1.0</td>\n",
       "      <td>11.4</td>\n",
       "      <td>82</td>\n",
       "      <td>Restaurants</td>\n",
       "      <td>0.0</td>\n",
       "      <td>2019</td>\n",
       "      <td>06</td>\n",
       "      <td>5</td>\n",
       "      <td>2019-06</td>\n",
       "      <td>25</td>\n",
       "    </tr>\n",
       "    <tr>\n",
       "      <th>3701</th>\n",
       "      <td>RCCJYBM</td>\n",
       "      <td>male</td>\n",
       "      <td>1991</td>\n",
       "      <td>3</td>\n",
       "      <td>2019-06-12 23:05:28</td>\n",
       "      <td>4.0</td>\n",
       "      <td>19.3</td>\n",
       "      <td>193</td>\n",
       "      <td>Restaurants</td>\n",
       "      <td>0.0</td>\n",
       "      <td>2019</td>\n",
       "      <td>06</td>\n",
       "      <td>3</td>\n",
       "      <td>2019-06</td>\n",
       "      <td>31</td>\n",
       "    </tr>\n",
       "    <tr>\n",
       "      <th>3700</th>\n",
       "      <td>RCCJYBM</td>\n",
       "      <td>male</td>\n",
       "      <td>1991</td>\n",
       "      <td>0</td>\n",
       "      <td>2019-06-12 23:05:28</td>\n",
       "      <td>4.0</td>\n",
       "      <td>19.3</td>\n",
       "      <td>193</td>\n",
       "      <td>Restaurants</td>\n",
       "      <td>0.0</td>\n",
       "      <td>2019</td>\n",
       "      <td>06</td>\n",
       "      <td>3</td>\n",
       "      <td>2019-06</td>\n",
       "      <td>31</td>\n",
       "    </tr>\n",
       "    <tr>\n",
       "      <th>3699</th>\n",
       "      <td>RCCJYBM</td>\n",
       "      <td>male</td>\n",
       "      <td>1991</td>\n",
       "      <td>0</td>\n",
       "      <td>2019-06-12 23:05:28</td>\n",
       "      <td>4.0</td>\n",
       "      <td>19.3</td>\n",
       "      <td>193</td>\n",
       "      <td>Restaurants</td>\n",
       "      <td>0.0</td>\n",
       "      <td>2019</td>\n",
       "      <td>06</td>\n",
       "      <td>3</td>\n",
       "      <td>2019-06</td>\n",
       "      <td>31</td>\n",
       "    </tr>\n",
       "    <tr>\n",
       "      <th>3698</th>\n",
       "      <td>NJDUUUU</td>\n",
       "      <td>male</td>\n",
       "      <td>1991</td>\n",
       "      <td>1</td>\n",
       "      <td>2019-06-12 23:04:08</td>\n",
       "      <td>5.0</td>\n",
       "      <td>22.8</td>\n",
       "      <td>78</td>\n",
       "      <td>Restaurants</td>\n",
       "      <td>0.0</td>\n",
       "      <td>2019</td>\n",
       "      <td>06</td>\n",
       "      <td>3</td>\n",
       "      <td>2019-06</td>\n",
       "      <td>31</td>\n",
       "    </tr>\n",
       "  </tbody>\n",
       "</table>\n",
       "</div>"
      ],
      "text/plain": [
       "     customer_id gender   dob  location_number           created_at  \\\n",
       "4059     3WB9JM8   male  1997                3  2019-06-21 17:18:37   \n",
       "3701     RCCJYBM   male  1991                3  2019-06-12 23:05:28   \n",
       "3700     RCCJYBM   male  1991                0  2019-06-12 23:05:28   \n",
       "3699     RCCJYBM   male  1991                0  2019-06-12 23:05:28   \n",
       "3698     NJDUUUU   male  1991                1  2019-06-12 23:04:08   \n",
       "\n",
       "      item_count  grand_total  vendor_id vendor_category_en  \\\n",
       "4059         1.0         11.4         82        Restaurants   \n",
       "3701         4.0         19.3        193        Restaurants   \n",
       "3700         4.0         19.3        193        Restaurants   \n",
       "3699         4.0         19.3        193        Restaurants   \n",
       "3698         5.0         22.8         78        Restaurants   \n",
       "\n",
       "      discount_percentage  year month day_name     date  age  \n",
       "4059                  0.0  2019    06        5  2019-06   25  \n",
       "3701                  0.0  2019    06        3  2019-06   31  \n",
       "3700                  0.0  2019    06        3  2019-06   31  \n",
       "3699                  0.0  2019    06        3  2019-06   31  \n",
       "3698                  0.0  2019    06        3  2019-06   31  "
      ]
     },
     "execution_count": 377,
     "metadata": {},
     "output_type": "execute_result"
    }
   ],
   "source": [
    "table_1.head()"
   ]
  },
  {
   "cell_type": "markdown",
   "metadata": {
    "id": "e54GGBkvzmdl"
   },
   "source": [
    "### Sales Chart\n",
    "Sales significantly increased in `2019-09` to `2019-10`"
   ]
  },
  {
   "cell_type": "code",
   "execution_count": 378,
   "metadata": {
    "colab": {
     "base_uri": "https://localhost:8080/"
    },
    "id": "kQprIJHPsOng",
    "outputId": "3b1dfba7-364a-48d8-d056-eb110f4861e3"
   },
   "outputs": [
    {
     "data": {
      "image/png": "[encoded data removed]",
      "text/plain": [
       "<Figure size 1440x576 with 1 Axes>"
      ]
     },
     "metadata": {
      "needs_background": "light"
     },
     "output_type": "display_data"
    }
   ],
   "source": [
    "df_date = table_1.groupby('date')['grand_total'].sum()\n",
    "df_date = pd.Series.to_frame(df_date)\n",
    "g=sns.relplot(x=\"date\", y=\"grand_total\", kind=\"line\",data=df_date, ci=None, height=2)\n",
    "g.fig.set_size_inches(20,8)\n",
    "plt.xlabel('Date', labelpad=10)\n",
    "plt.ylabel('Grand Total', labelpad=10)\n",
    "plt.title('Sales Chart', fontsize=16)\n",
    "plt.show();"
   ]
  },
  {
   "cell_type": "markdown",
   "metadata": {
    "id": "A5OzSv7aSvtp"
   },
   "source": [
    "### Daily Sales"
   ]
  },
  {
   "cell_type": "code",
   "execution_count": 379,
   "metadata": {
    "colab": {
     "base_uri": "https://localhost:8080/"
    },
    "id": "g54Yrx8v-9DS",
    "outputId": "bddc8496-01df-4024-bd21-b7da2ee0e025",
    "scrolled": true
   },
   "outputs": [],
   "source": [
    "df_day = table_1.groupby('day_name')['grand_total'].sum()\n",
    "df_day = pd.DataFrame(df_day)\n",
    "df_day = df_day.reset_index()\n",
    "\n",
    "df_day['day_name'] = ['Monday','Tuesday','Wednesday','Thursday','Friday','Saturday','Sunday']"
   ]
  },
  {
   "cell_type": "code",
   "execution_count": 380,
   "metadata": {
    "colab": {
     "base_uri": "https://localhost:8080/"
    },
    "id": "KlyrJk_8BWUy",
    "outputId": "98b31e04-1886-4b8e-efd2-156af9274bf6"
   },
   "outputs": [
    {
     "data": {
      "image/png": "[encoded data removed]",
      "text/plain": [
       "<Figure size 504x288 with 1 Axes>"
      ]
     },
     "metadata": {
      "needs_background": "light"
     },
     "output_type": "display_data"
    }
   ],
   "source": [
    "plt.rcParams[\"figure.figsize\"] = [7, 4]\n",
    "plt.rcParams[\"figure.autolayout\"] = True\n",
    "\n",
    "sns.barplot(x=\"day_name\", y = \"grand_total\", palette=\"crest\", data=df_day)\n",
    "plt.ylabel('')\n",
    "plt.xlabel('')\n",
    "plt.title('Grand Total each Day', fontsize=15, pad=10)\n",
    "plt.show()"
   ]
  },
  {
   "cell_type": "markdown",
   "metadata": {
    "id": "6QUId0TBS7ef"
   },
   "source": [
    "### Customer Information"
   ]
  },
  {
   "cell_type": "code",
   "execution_count": 381,
   "metadata": {
    "colab": {
     "base_uri": "https://localhost:8080/"
    },
    "id": "VRwJcHAiCEK9",
    "outputId": "a0c72dcb-9001-40ca-f3cf-35800cead7c8"
   },
   "outputs": [
    {
     "data": {
      "text/plain": [
       "count    16925.000000\n",
       "mean        23.096366\n",
       "std          7.297158\n",
       "min         12.000000\n",
       "25%         17.000000\n",
       "50%         23.000000\n",
       "75%         28.000000\n",
       "max        122.000000\n",
       "Name: age, dtype: float64"
      ]
     },
     "execution_count": 381,
     "metadata": {},
     "output_type": "execute_result"
    }
   ],
   "source": [
    "table_1['age'].describe()"
   ]
  },
  {
   "cell_type": "code",
   "execution_count": 382,
   "metadata": {
    "colab": {
     "base_uri": "https://localhost:8080/",
     "height": 1000
    },
    "id": "rD7c_rrGYhAr",
    "outputId": "b8573bf5-1fb0-4f83-f902-9fae89ec9866"
   },
   "outputs": [],
   "source": [
    "data_group = pd.crosstab(table_1['age'], table_1['gender'])"
   ]
  },
  {
   "cell_type": "code",
   "execution_count": 383,
   "metadata": {
    "colab": {
     "base_uri": "https://localhost:8080/",
     "height": 634
    },
    "id": "9FPtblh5Y19e",
    "outputId": "0e1c987a-b06d-4c27-c900-41572ff46d38"
   },
   "outputs": [
    {
     "data": {
      "image/png": "[encoded data removed]",
      "text/plain": [
       "<Figure size 1080x360 with 1 Axes>"
      ]
     },
     "metadata": {
      "needs_background": "light"
     },
     "output_type": "display_data"
    }
   ],
   "source": [
    "plt.rcParams[\"figure.figsize\"] = [15, 5]\n",
    "plt.rcParams[\"figure.autolayout\"] = True\n",
    "data_group.plot(kind='bar', stacked=True, color=['yellowgreen', 'olivedrab'])\n",
    "plt.title('Total People each Age devided by Gender', fontsize=15, pad=10)\n",
    "plt.xlabel('')\n",
    "plt.show();"
   ]
  },
  {
   "cell_type": "code",
   "execution_count": 384,
   "metadata": {},
   "outputs": [],
   "source": [
    "data_group2 = pd.crosstab(table_1['gender'], table_1['vendor_category_en'])\n",
    "data_group2.reset_index(inplace=True)"
   ]
  },
  {
   "cell_type": "code",
   "execution_count": 385,
   "metadata": {},
   "outputs": [
    {
     "data": {
      "image/png": "[encoded data removed]",
      "text/plain": [
       "<Figure size 1080x360 with 1 Axes>"
      ]
     },
     "metadata": {
      "needs_background": "light"
     },
     "output_type": "display_data"
    }
   ],
   "source": [
    "plt.xlim(0, 12000)\n",
    "b1 = plt.barh(data_group2['gender'], data_group2['Restaurants'], color=\"yellowgreen\")\n",
    "b2 = plt.barh(data_group2['gender'], data_group2['Sweets & Bakes'], color=\"olivedrab\")\n",
    "plt.legend([b2, b1], [\"Sweet & Bakes\", \"Restaurants\"], title=\"Category\", loc=\"upper right\")\n",
    "plt.title('Customers Interest based on Gender', fontsize=15, pad=10)\n",
    "plt.xlabel('Grand Total', labelpad=10)\n",
    "plt.ylabel('')\n",
    "plt.show();"
   ]
  },
  {
   "cell_type": "markdown",
   "metadata": {
    "id": "BwGC7VQVTAXM"
   },
   "source": [
    "### Highest Sales by Vendor"
   ]
  },
  {
   "cell_type": "code",
   "execution_count": 386,
   "metadata": {
    "colab": {
     "base_uri": "https://localhost:8080/"
    },
    "id": "phx4CneEiQhv",
    "outputId": "6a8195e3-b985-45fc-d4eb-84f9554100c0"
   },
   "outputs": [],
   "source": [
    "df_vendor = table_1.groupby('vendor_id')['grand_total'].sum()\n",
    "df_vendor = pd.DataFrame(df_vendor)\n",
    "df_vendor.reset_index(inplace=True)\n",
    "df_vendor_top_5 = df_vendor.sort_values(by=['grand_total'], ascending=False).head()"
   ]
  },
  {
   "cell_type": "code",
   "execution_count": 387,
   "metadata": {
    "colab": {
     "base_uri": "https://localhost:8080/",
     "height": 974
    },
    "id": "D5a6Q2jjMruY",
    "outputId": "b22f268e-b5aa-4232-8a75-3c46f9364f18"
   },
   "outputs": [
    {
     "data": {
      "image/png": "[encoded data removed]",
      "text/plain": [
       "<Figure size 720x360 with 1 Axes>"
      ]
     },
     "metadata": {
      "needs_background": "light"
     },
     "output_type": "display_data"
    }
   ],
   "source": [
    "plt.rcParams[\"figure.figsize\"] = [10, 5]\n",
    "plt.rcParams[\"figure.autolayout\"] = True\n",
    "sns.barplot(x=\"vendor_id\", y=\"grand_total\", palette=\"flare\", data=df_vendor_top_5)\n",
    "plt.title('Top 5 Sales by Vendor', fontsize=15, pad=10)\n",
    "plt.xlabel('Vendor ID', labelpad=10)\n",
    "plt.ylabel('Grand Total')\n",
    "plt.show()"
   ]
  },
  {
   "cell_type": "markdown",
   "metadata": {
    "id": "nhXQUcdjq-Vs"
   },
   "source": [
    "## Comparison Plot `2019-09` with `2019-10`"
   ]
  },
  {
   "cell_type": "code",
   "execution_count": 388,
   "metadata": {
    "id": "ymJdcDD5xrk7"
   },
   "outputs": [],
   "source": [
    "test_1 = table_1[table_1['date'] == '2019-09'] \n",
    "test_2 = table_1[table_1['date'] == '2019-10'] "
   ]
  },
  {
   "cell_type": "code",
   "execution_count": 389,
   "metadata": {
    "colab": {
     "base_uri": "https://localhost:8080/"
    },
    "id": "7EEvwbye11zD",
    "outputId": "47b79675-c507-4241-c29a-b9a4424ff411"
   },
   "outputs": [
    {
     "data": {
      "image/png": "[encoded data removed]",
      "text/plain": [
       "<Figure size 720x360 with 1 Axes>"
      ]
     },
     "metadata": {
      "needs_background": "light"
     },
     "output_type": "display_data"
    }
   ],
   "source": [
    "sns.histplot(test_1['age'], edgecolor = 'white', bins = 10)\n",
    "plt.title('Total Sales per Age Range in 2019-09', fontsize=15, pad=10)\n",
    "plt.xlabel('Age', labelpad=10)\n",
    "plt.ylabel('Grand Total', labelpad=10)\n",
    "plt.show();"
   ]
  },
  {
   "cell_type": "code",
   "execution_count": 390,
   "metadata": {
    "colab": {
     "base_uri": "https://localhost:8080/"
    },
    "id": "dM80oXWc2LLa",
    "outputId": "7594bd8e-b1bf-4a30-8dd9-c05c19a67d57"
   },
   "outputs": [
    {
     "data": {
      "image/png": "[encoded data removed]",
      "text/plain": [
       "<Figure size 720x360 with 1 Axes>"
      ]
     },
     "metadata": {
      "needs_background": "light"
     },
     "output_type": "display_data"
    }
   ],
   "source": [
    "sns.histplot(test_2['age'], edgecolor = 'white', bins = 10)\n",
    "plt.title('Total Sales per Age Range in 2019-10', fontsize=15, pad=10)\n",
    "plt.xlabel('Age', labelpad=10)\n",
    "plt.ylabel('Grand Total', labelpad=10)\n",
    "plt.show();"
   ]
  },
  {
   "cell_type": "markdown",
   "metadata": {
    "id": "8h742kdnrPxS"
   },
   "source": [
    "## Friday Sales Effects"
   ]
  },
  {
   "cell_type": "code",
   "execution_count": 391,
   "metadata": {},
   "outputs": [],
   "source": [
    "df_dday = table_1[table_1['day_name'] == '4']\n",
    "df_dday = df_dday.groupby('vendor_id')['grand_total'].sum()\n",
    "df_dday = pd.DataFrame(df_dday)\n",
    "df_dday.reset_index(inplace=True)\n",
    "df_dday = df_dday.sort_values('grand_total', ascending=False)\n",
    "temp_d = df_dday.head()"
   ]
  },
  {
   "cell_type": "code",
   "execution_count": 392,
   "metadata": {
    "colab": {
     "base_uri": "https://localhost:8080/"
    },
    "id": "_b8G128cwJLW",
    "outputId": "61b4224f-1336-4384-e366-12a591d4cb6b"
   },
   "outputs": [
    {
     "data": {
      "image/png": "[encoded data removed]",
      "text/plain": [
       "<Figure size 720x360 with 1 Axes>"
      ]
     },
     "metadata": {
      "needs_background": "light"
     },
     "output_type": "display_data"
    }
   ],
   "source": [
    "sns.barplot(x=\"vendor_id\", y =\"grand_total\", palette=\"ch:.25\", data=temp_d)\n",
    "plt.title('Highest Vendor Sales in Friday', pad=10, fontsize=15)\n",
    "plt.xlabel('Vendor ID', labelpad=10)\n",
    "plt.ylabel('Grand Total', labelpad=10)\n",
    "plt.show()"
   ]
  },
  {
   "cell_type": "markdown",
   "metadata": {
    "id": "8kf4LR7HBdJ7"
   },
   "source": [
    "## Current Plot in 2020-02"
   ]
  },
  {
   "cell_type": "code",
   "execution_count": 393,
   "metadata": {
    "colab": {
     "base_uri": "https://localhost:8080/",
     "height": 1000
    },
    "id": "S0Ga_G2HBg6X",
    "outputId": "7005d3f4-b6ee-4e79-9b43-8bde8813444b"
   },
   "outputs": [],
   "source": [
    "test_3 = table_1[table_1['date'] == '2020-02']\n",
    "test_3 = test_3.groupby('vendor_id')['grand_total'].sum()\n",
    "test_3 = pd.DataFrame(test_3)\n",
    "test_3.reset_index(inplace=True)\n",
    "test_3 = test_3.sort_values('grand_total', ascending=False)"
   ]
  },
  {
   "cell_type": "code",
   "execution_count": 394,
   "metadata": {},
   "outputs": [
    {
     "data": {
      "image/png": "[encoded data removed]",
      "text/plain": [
       "<Figure size 720x360 with 1 Axes>"
      ]
     },
     "metadata": {
      "needs_background": "light"
     },
     "output_type": "display_data"
    }
   ],
   "source": [
    "sns.barplot(x=\"vendor_id\", y =\"grand_total\", palette=\"mako\", data=test_3.head())\n",
    "plt.title('Highest Vendor Sales in 2020-02', pad=10, fontsize=15)\n",
    "plt.xlabel('Vendor ID', labelpad=10)\n",
    "plt.ylabel('Grand Total', labelpad=10)\n",
    "plt.show()"
   ]
  },
  {
   "cell_type": "code",
   "execution_count": 395,
   "metadata": {
    "colab": {
     "base_uri": "https://localhost:8080/",
     "height": 973
    },
    "id": "4de7uPLSDEZY",
    "outputId": "6bc736cf-344c-41b2-b16c-c616a9cea61e"
   },
   "outputs": [],
   "source": [
    "test_3_age = table_1[table_1['date'] == '2020-02']\n",
    "test_3_age = test_3_age.groupby('age')['grand_total'].sum()\n",
    "test_3_age = pd.DataFrame(test_3_age)\n",
    "test_3_age.reset_index(inplace=True)\n",
    "test_3_age = test_3_age.sort_values('grand_total', ascending=False)"
   ]
  },
  {
   "cell_type": "code",
   "execution_count": 396,
   "metadata": {},
   "outputs": [
    {
     "data": {
      "image/png": "[encoded data removed]",
      "text/plain": [
       "<Figure size 720x360 with 1 Axes>"
      ]
     },
     "metadata": {
      "needs_background": "light"
     },
     "output_type": "display_data"
    }
   ],
   "source": [
    "sns.barplot(x=\"age\", y =\"grand_total\", palette=\"rocket\", data=test_3_age.head())\n",
    "plt.title('Highest Vendor Sales in 2020-02', pad=10, fontsize=15)\n",
    "plt.xlabel('Age', labelpad=10)\n",
    "plt.ylabel('Grand Total', labelpad=10)\n",
    "plt.show()"
   ]
  },
  {
   "cell_type": "markdown",
   "metadata": {
    "id": "EVYEbWFcLFm5"
   },
   "source": [
    "## Conclusion"
   ]
  },
  {
   "cell_type": "markdown",
   "metadata": {
    "id": "xq4RgmlN6V4o"
   },
   "source": [
    "* Based on the data that we have plotted, we can see there is a spike in our time-series plot between date 2019-09 to 2019-10. Also, highest sales for all time is on Friday.\n",
    "\n",
    "---\n",
    "* After plotting and diving deeper to our dataset, we can see that our customers are mostly between 13 - 32 years old. Other than that, we can see the customers gender distribution is most likely male with interest in restaurants category, same as female.\n",
    "\n",
    "---\n",
    "* For all time sales by vendor we can see vendor ID 113 has the biggest total sales for all time and also highest sales in Friday.\n",
    "\n",
    "---\n",
    "\n",
    "* As for the current date, in our chart vendor ID 84 has given the biggest total sales for now."
   ]
  },
  {
   "cell_type": "markdown",
   "metadata": {},
   "source": [
    "## Recommendations"
   ]
  },
  {
   "cell_type": "markdown",
   "metadata": {},
   "source": [
    "* If we want to boost our revenue, let's make some discount that will attract customers between 13 - 32 years old then collect their data to see their behavior and interest on our products. For discount, let's prefer to make it on Friday.\n",
    "\n",
    "---\n",
    "\n",
    "* Concern on what kind of product does vendor number 84 sell, because this vendor just had the biggest sales for the current date and this is a chance to gain revenue because our hypothesis is this vendor might sell something trending in our society."
   ]
  }
 ],
 "metadata": {
  "colab": {
   "collapsed_sections": [
    "UEnIzR1tlWhB",
    "M6YWX-NtKn8K",
    "TmfuYV3clcWk",
    "031LDaaFlk2t",
    "QUlpaqeqMFn2",
    "e54GGBkvzmdl",
    "A5OzSv7aSvtp",
    "nhXQUcdjq-Vs",
    "8h742kdnrPxS"
   ],
   "name": "Restaurant Analysis.ipynb",
   "provenance": []
  },
  "kernelspec": {
   "display_name": "Python 3 (ipykernel)",
   "language": "python",
   "name": "python3"
  },
  "language_info": {
   "codemirror_mode": {
    "name": "ipython",
    "version": 3
   },
   "file_extension": ".py",
   "mimetype": "text/x-python",
   "name": "python",
   "nbconvert_exporter": "python",
   "pygments_lexer": "ipython3",
   "version": "3.9.7"
  }
 },
 "nbformat": 4,
 "nbformat_minor": 1
}
